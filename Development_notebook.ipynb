{
 "cells": [
  {
   "cell_type": "code",
   "execution_count": 3,
   "metadata": {},
   "outputs": [
    {
     "name": "stdout",
     "output_type": "stream",
     "text": [
      "\u001b[31mDEPRECATION: The default format will switch to columns in the future. You can use --format=(legacy|columns) (or define a format=(legacy|columns) in your pip.conf under the [list] section) to disable this warning.\u001b[0m\r\n",
      "appnope (0.1.0)\r\n",
      "backcall (0.1.0)\r\n",
      "bleach (1.5.0)\r\n",
      "boto (2.48.0)\r\n",
      "boto3 (1.5.1)\r\n",
      "botocore (1.8.15)\r\n",
      "bz2file (0.98)\r\n",
      "certifi (2017.11.5)\r\n",
      "chardet (3.0.4)\r\n",
      "cycler (0.10.0)\r\n",
      "decorator (4.3.0)\r\n",
      "Django (2.0.3)\r\n",
      "docutils (0.14)\r\n",
      "entrypoints (0.2.3)\r\n",
      "enum34 (1.1.6)\r\n",
      "future (0.16.0)\r\n",
      "gensim (3.2.0)\r\n",
      "graphviz (0.8.2)\r\n",
      "gym (0.10.5)\r\n",
      "h5py (2.7.1)\r\n",
      "html5lib (0.9999999)\r\n",
      "idna (2.6)\r\n",
      "ipykernel (4.8.2)\r\n",
      "ipython (6.3.1)\r\n",
      "ipython-genutils (0.2.0)\r\n",
      "ipywidgets (7.2.1)\r\n",
      "jedi (0.12.0)\r\n",
      "Jinja2 (2.10)\r\n",
      "jmespath (0.9.3)\r\n",
      "jsonpickle (0.9.5)\r\n",
      "jsonschema (2.6.0)\r\n",
      "jupyter (1.0.0)\r\n",
      "jupyter-client (5.2.3)\r\n",
      "jupyter-console (5.2.0)\r\n",
      "jupyter-core (4.4.0)\r\n",
      "Keras (2.1.1)\r\n",
      "kiwisolver (1.0.1)\r\n",
      "Markdown (2.6.10)\r\n",
      "MarkupSafe (1.0)\r\n",
      "matplotlib (2.2.2)\r\n",
      "mistune (0.8.3)\r\n",
      "nbconvert (5.3.1)\r\n",
      "nbformat (4.4.0)\r\n",
      "nltk (3.2.5)\r\n",
      "notebook (5.4.1)\r\n",
      "numpy (1.13.3)\r\n",
      "pandas (0.21.1)\r\n",
      "pandocfilters (1.4.2)\r\n",
      "parso (0.2.0)\r\n",
      "pexpect (4.5.0)\r\n",
      "pickleshare (0.7.4)\r\n",
      "pip (9.0.3)\r\n",
      "prompt-toolkit (1.0.15)\r\n",
      "protobuf (3.5.0.post1)\r\n",
      "ptyprocess (0.5.2)\r\n",
      "pyCardDeck (1.3.3)\r\n",
      "pydot (1.2.4)\r\n",
      "pyglet (1.3.2)\r\n",
      "Pygments (2.2.0)\r\n",
      "pyparsing (2.2.0)\r\n",
      "python-dateutil (2.6.1)\r\n",
      "pytz (2017.3)\r\n",
      "PyYAML (3.12)\r\n",
      "pyzmq (17.0.0)\r\n",
      "qtconsole (4.3.1)\r\n",
      "requests (2.18.4)\r\n",
      "s3transfer (0.1.12)\r\n",
      "scipy (1.0.0)\r\n",
      "Send2Trash (1.5.0)\r\n",
      "setuptools (32.2.0)\r\n",
      "simplegeneric (0.8.1)\r\n",
      "SimpleITK (1.0.1)\r\n",
      "six (1.11.0)\r\n",
      "smart-open (1.5.5)\r\n",
      "tensorflow (1.4.1)\r\n",
      "tensorflow-tensorboard (0.4.0rc3)\r\n",
      "terminado (0.8.1)\r\n",
      "testpath (0.3.1)\r\n",
      "tornado (5.0.2)\r\n",
      "traitlets (4.3.2)\r\n",
      "urllib3 (1.22)\r\n",
      "wcwidth (0.1.7)\r\n",
      "Werkzeug (0.13)\r\n",
      "wheel (0.29.0)\r\n",
      "widgetsnbextension (3.2.1)\r\n",
      "\u001b[33mYou are using pip version 9.0.3, however version 10.0.1 is available.\r\n",
      "You should consider upgrading via the 'pip install --upgrade pip' command.\u001b[0m\r\n"
     ]
    }
   ],
   "source": [
    "!pip3 list"
   ]
  },
  {
   "cell_type": "code",
   "execution_count": 4,
   "metadata": {},
   "outputs": [
    {
     "ename": "ImportError",
     "evalue": "No module named request",
     "output_type": "error",
     "traceback": [
      "\u001b[0;31m------------------------------------------------------\u001b[0m",
      "\u001b[0;31mImportError\u001b[0m          Traceback (most recent call last)",
      "\u001b[0;32m<ipython-input-4-b5420a7bbc43>\u001b[0m in \u001b[0;36m<module>\u001b[0;34m()\u001b[0m\n\u001b[0;32m----> 1\u001b[0;31m \u001b[0;32mimport\u001b[0m \u001b[0mutilities\u001b[0m\u001b[0;34m\u001b[0m\u001b[0m\n\u001b[0m",
      "\u001b[0;32m/Users/xtwang/Documents/python/GrandExchangeApp/utilities.py\u001b[0m in \u001b[0;36m<module>\u001b[0;34m()\u001b[0m\n\u001b[1;32m      6\u001b[0m \u001b[0;32mimport\u001b[0m \u001b[0mjson\u001b[0m\u001b[0;34m\u001b[0m\u001b[0m\n\u001b[1;32m      7\u001b[0m \u001b[0;32mimport\u001b[0m \u001b[0mpickle\u001b[0m\u001b[0;34m\u001b[0m\u001b[0m\n\u001b[0;32m----> 8\u001b[0;31m \u001b[0;32mimport\u001b[0m \u001b[0mgetPrices\u001b[0m\u001b[0;34m\u001b[0m\u001b[0m\n\u001b[0m\u001b[1;32m      9\u001b[0m \u001b[0;32mimport\u001b[0m \u001b[0mpandas\u001b[0m \u001b[0;32mas\u001b[0m \u001b[0mpd\u001b[0m\u001b[0;34m\u001b[0m\u001b[0m\n\u001b[1;32m     10\u001b[0m \u001b[0;34m\u001b[0m\u001b[0m\n",
      "\u001b[0;32m/Users/xtwang/Documents/python/GrandExchangeApp/getPrices.py\u001b[0m in \u001b[0;36m<module>\u001b[0;34m()\u001b[0m\n\u001b[0;32m----> 1\u001b[0;31m \u001b[0;32mimport\u001b[0m \u001b[0murllib\u001b[0m\u001b[0;34m.\u001b[0m\u001b[0mrequest\u001b[0m\u001b[0;34m,\u001b[0m \u001b[0mjson\u001b[0m\u001b[0;34m\u001b[0m\u001b[0m\n\u001b[0m\u001b[1;32m      2\u001b[0m \u001b[0;32mimport\u001b[0m \u001b[0murllib\u001b[0m\u001b[0;34m\u001b[0m\u001b[0m\n\u001b[1;32m      3\u001b[0m \u001b[0;34m\u001b[0m\u001b[0m\n\u001b[1;32m      4\u001b[0m \u001b[0;32mdef\u001b[0m \u001b[0mget_item\u001b[0m\u001b[0;34m(\u001b[0m\u001b[0mitemID\u001b[0m\u001b[0;34m)\u001b[0m\u001b[0;34m:\u001b[0m\u001b[0;34m\u001b[0m\u001b[0m\n\u001b[1;32m      5\u001b[0m         \u001b[0;32mwith\u001b[0m \u001b[0murllib\u001b[0m\u001b[0;34m.\u001b[0m\u001b[0mrequest\u001b[0m\u001b[0;34m.\u001b[0m\u001b[0murlopen\u001b[0m\u001b[0;34m(\u001b[0m\u001b[0;34m\"https://api.rsbuddy.com/grandExchange?a=guidePrice&i=9044\"\u001b[0m\u001b[0;34m)\u001b[0m \u001b[0;32mas\u001b[0m \u001b[0murl\u001b[0m\u001b[0;34m:\u001b[0m\u001b[0;34m\u001b[0m\u001b[0m\n",
      "\u001b[0;31mImportError\u001b[0m: No module named request"
     ]
    }
   ],
   "source": [
    "import utilities"
   ]
  },
  {
   "cell_type": "code",
   "execution_count": 5,
   "metadata": {
    "collapsed": true
   },
   "outputs": [],
   "source": [
    "import urllib "
   ]
  },
  {
   "cell_type": "code",
   "execution_count": 6,
   "metadata": {},
   "outputs": [
    {
     "ename": "AttributeError",
     "evalue": "'module' object has no attribute 'request'",
     "output_type": "error",
     "traceback": [
      "\u001b[0;31m------------------------------------------------------\u001b[0m",
      "\u001b[0;31mAttributeError\u001b[0m       Traceback (most recent call last)",
      "\u001b[0;32m<ipython-input-6-38b57badb0b1>\u001b[0m in \u001b[0;36m<module>\u001b[0;34m()\u001b[0m\n\u001b[0;32m----> 1\u001b[0;31m \u001b[0murl\u001b[0m \u001b[0;34m=\u001b[0m \u001b[0murllib\u001b[0m\u001b[0;34m.\u001b[0m\u001b[0mrequest\u001b[0m\u001b[0;34m.\u001b[0m\u001b[0murlopen\u001b[0m\u001b[0;34m(\u001b[0m\u001b[0;34m\"https://api.rsbuddy.com/grandExchange?a=guidePrice&i=9044\"\u001b[0m\u001b[0;34m)\u001b[0m\u001b[0;34m\u001b[0m\u001b[0m\n\u001b[0m",
      "\u001b[0;31mAttributeError\u001b[0m: 'module' object has no attribute 'request'"
     ]
    }
   ],
   "source": [
    "url = urllib.request.urlopen(\"https://api.rsbuddy.com/grandExchange?a=guidePrice&i=9044\")"
   ]
  },
  {
   "cell_type": "code",
   "execution_count": null,
   "metadata": {
    "collapsed": true
   },
   "outputs": [],
   "source": []
  }
 ],
 "metadata": {
  "kernelspec": {
   "display_name": "Python 3",
   "language": "python",
   "name": "python3"
  },
  "language_info": {
   "codemirror_mode": {
    "name": "ipython",
    "version": 2
   },
   "file_extension": ".py",
   "mimetype": "text/x-python",
   "name": "python",
   "nbconvert_exporter": "python",
   "pygments_lexer": "ipython2",
   "version": "2.7.13"
  }
 },
 "nbformat": 4,
 "nbformat_minor": 2
}
